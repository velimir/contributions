{
 "cells": [
  {
   "cell_type": "code",
   "execution_count": null,
   "metadata": {
    "collapsed": true
   },
   "outputs": [],
   "source": [
    "import pandas as pd\n",
    "import numpy as np\n",
    "\n",
    "import matplotlib.pyplot as plt\n",
    "import matplotlib as mpl\n",
    "import matplotlib.dates as mdates"
   ]
  },
  {
   "cell_type": "code",
   "execution_count": null,
   "metadata": {
    "collapsed": true
   },
   "outputs": [],
   "source": [
    "%matplotlib inline"
   ]
  },
  {
   "cell_type": "code",
   "execution_count": null,
   "metadata": {
    "collapsed": true
   },
   "outputs": [],
   "source": [
    "filename = 'examples/uwiger.json'"
   ]
  },
  {
   "cell_type": "code",
   "execution_count": null,
   "metadata": {},
   "outputs": [],
   "source": [
    "import json\n",
    "\n",
    "with open(filename) as fp:\n",
    "    data = json.load(fp)\n",
    "    contributions = pd.DataFrame({\n",
    "        'name': c['repo']['name'],\n",
    "        'week': pd.to_datetime(stat['w'], unit='s'),\n",
    "        'additions': stat['a'],\n",
    "        'deletions': stat['d'],\n",
    "        'commits': stat['c']\n",
    "    } for c in data for stat in c['stats']['weeks'] if stat['c'])\n",
    "    \n",
    "contributions"
   ]
  },
  {
   "cell_type": "code",
   "execution_count": null,
   "metadata": {
    "collapsed": true
   },
   "outputs": [],
   "source": [
    "# # time slice\n",
    "#contrib = contributions[(pd.Timestamp('2014-09-01') < contributions.week) &\n",
    "#                        (contributions.week < pd.Timestamp('2015-09-01'))]\n",
    "\n",
    "# get top 20 contributions\n",
    "nameg = contributions.groupby('name')\n",
    "longest = (nameg.aggregate('max') - nameg.aggregate('min')).nlargest(20, 'week')\n",
    "contrib = contributions[contributions.name.isin(longest.index)]\n",
    "\n",
    "# # all contributions\n",
    "# contrib = contributions"
   ]
  },
  {
   "cell_type": "code",
   "execution_count": null,
   "metadata": {},
   "outputs": [],
   "source": [
    "contrib = contrib.sort_values('week', ascending=True)\n",
    "\n",
    "streaks = []\n",
    "for repo_name, repo_group in contrib.groupby('name'):\n",
    "    for _, streak_group in repo_group.groupby((repo_group.week.diff().dt.days > 30).cumsum()):\n",
    "        start = streak_group.week.min()\n",
    "        streaks.append(pd.Series({\n",
    "            'name': repo_name,\n",
    "            'start': start,\n",
    "            'duration': streak_group.week.max() - start + pd.Timedelta('7 days'),\n",
    "            'commits': streak_group.commits.mean()\n",
    "        }))\n",
    "\n",
    "sdf = pd.DataFrame(streaks)\n",
    "sdf"
   ]
  },
  {
   "cell_type": "code",
   "execution_count": null,
   "metadata": {},
   "outputs": [],
   "source": [
    "names = sdf.sort_values('start', ascending=True).name.unique()\n",
    "\n",
    "fig, ax = plt.subplots(figsize=(15, len(names) * .5), dpi=300)\n",
    "ax.grid(linewidth=0.2, zorder=0)\n",
    "for spine_name in ax.spines:\n",
    "    if spine_name != 'bottom':\n",
    "        ax.spines[spine_name].set_visible(False)\n",
    "\n",
    "ax.xaxis_date()\n",
    "ax.yaxis.set_ticks(range(0, len(names) * 2, 2))\n",
    "for tic in ax.yaxis.get_major_ticks():\n",
    "    tic.tick1On = tic.tick2On = False\n",
    "    tic.label1On = tic.label2On = False\n",
    "    \n",
    "norm = mpl.colors.Normalize(vmin=sdf.commits.min(), vmax=sdf.commits.max())\n",
    "color_map = plt.cm.copper\n",
    "\n",
    "for i, repo_name in enumerate(names[::-1]):\n",
    "    streak_group = sdf[sdf.name == repo_name]\n",
    "    text_x = mdates.date2num(min(streak_group.start))\n",
    "    ax.text(text_x, i * 2 + 1, repo_name, verticalalignment='center')\n",
    "    for _, streak in streak_group.iterrows():\n",
    "        start_dn = mdates.date2num(streak.start)\n",
    "        end_dn = mdates.date2num(streak.start + streak.duration)\n",
    "        color = color_map(norm(streak.commits))\n",
    "        ax.barh(bottom=i*2, width=(end_dn - start_dn), left=start_dn, \n",
    "                color=color, label=streak.name, align='center',zorder=2)\n",
    "        \n",
    "# add colorbar\n",
    "cax, kw = mpl.colorbar.make_axes(ax, location='right',\n",
    "                                fraction=0.02,\n",
    "                                # shrink=0.2, aspect=22\n",
    "                                )\n",
    "cbar = mpl.colorbar.ColorbarBase(cax, norm=norm, cmap=color_map,\n",
    "                                 label='Average # of commits per streak', **kw)\n",
    "cbar.outline.set_visible(False)\n",
    "\n",
    "ax.margins(0.01)\n",
    "bxlim, exlim = ax.get_xlim()\n",
    "span = (exlim - bxlim)\n",
    "ax.set_xlim(bxlim - span * 0.05, exlim + span * 0.05)\n",
    "\n",
    "plt.show()"
   ]
  }
 ],
 "metadata": {
  "kernelspec": {
   "display_name": "Python 2",
   "language": "python",
   "name": "python2"
  },
  "language_info": {
   "codemirror_mode": {
    "name": "ipython",
    "version": 2
   },
   "file_extension": ".py",
   "mimetype": "text/x-python",
   "name": "python",
   "nbconvert_exporter": "python",
   "pygments_lexer": "ipython2",
   "version": "2.7.13"
  }
 },
 "nbformat": 4,
 "nbformat_minor": 2
}
